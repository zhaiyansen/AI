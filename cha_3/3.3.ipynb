{
 "cells": [
  {
   "cell_type": "markdown",
   "id": "0a356f74-4074-4286-8bcc-e7aab001a076",
   "metadata": {},
   "source": [
    "# 3.3 线性回归的简洁实现"
   ]
  },
  {
   "cell_type": "markdown",
   "id": "c5d08f83-63ce-4bdb-88da-8681783359f8",
   "metadata": {},
   "source": [
    "## 3.3.1生成数据集"
   ]
  },
  {
   "cell_type": "code",
   "execution_count": 1,
   "id": "54d2a21c-fab0-4dba-b39e-aab4a84449cf",
   "metadata": {},
   "outputs": [],
   "source": [
    "import numpy as np\n",
    "import torch\n",
    "from torch.utils import data\n",
    "from d2l import torch as d2l\n",
    "\n",
    "true_w = torch.tensor([2, -3.4])\n",
    "true_b = 4.2\n",
    "features, labels = d2l.synthetic_data(true_w, true_b, 1000)"
   ]
  },
  {
   "cell_type": "code",
   "execution_count": 3,
   "id": "014a37bf-ad3c-42d4-8dc7-ca84c9f5628e",
   "metadata": {},
   "outputs": [],
   "source": [
    "def load_array(data_arrays, batch_size, is_train=True):\n",
    "    #构造一个pytorch数据迭代器\n",
    "    dataset = data.TensorDataset(*data_arrays)\n",
    "    return data.DataLoader(dataset, batch_size, shuffle=is_train)\n",
    "\n",
    "batch_size = 10\n",
    "data_iter = load_array((features, labels), batch_size)"
   ]
  },
  {
   "cell_type": "code",
   "execution_count": 13,
   "id": "3fa4c284-fda3-4dd9-81fe-2fc4e0798d61",
   "metadata": {},
   "outputs": [
    {
     "data": {
      "text/plain": [
       "[tensor([[ 2.5235, -1.4578],\n",
       "         [-1.0434, -0.5770],\n",
       "         [-0.4877,  0.0725],\n",
       "         [-0.8034,  0.1894],\n",
       "         [-0.8295, -2.7036],\n",
       "         [-1.8637,  0.2381],\n",
       "         [ 0.3638, -0.0207],\n",
       "         [-0.1496, -0.5572],\n",
       "         [ 0.0711, -0.0955],\n",
       "         [ 0.9644,  0.2495]]),\n",
       " tensor([[14.2073],\n",
       "         [ 4.0536],\n",
       "         [ 2.9832],\n",
       "         [ 1.9266],\n",
       "         [11.7254],\n",
       "         [-0.3443],\n",
       "         [ 4.9963],\n",
       "         [ 5.7990],\n",
       "         [ 4.6636],\n",
       "         [ 5.2822]])]"
      ]
     },
     "execution_count": 13,
     "metadata": {},
     "output_type": "execute_result"
    }
   ],
   "source": [
    "next(iter(data_iter))"
   ]
  },
  {
   "cell_type": "code",
   "execution_count": 17,
   "id": "e8928526-25cf-466a-9601-d68543d7f9cf",
   "metadata": {},
   "outputs": [
    {
     "data": {
      "text/plain": [
       "'在 for batch in data_iter: 这个语句中，Python 会自动调用 iter(data_iter) 生成迭代器，然后不断调用 next() 获取下一个批次数据，直到数据集遍历完毕。\\n\\n'"
      ]
     },
     "execution_count": 17,
     "metadata": {},
     "output_type": "execute_result"
    }
   ],
   "source": [
    "#for batch in data_iter:\n",
    "   # print(batch)  # 逐个输出所有批次的数据\n",
    "'''在 for batch in data_iter: 这个语句中，Python 会自动调用 iter(data_iter) 生成迭代器，然后不断调用 next() 获取下一个批次数据，直到数据集遍历完毕。\n",
    "\n",
    "'''"
   ]
  },
  {
   "cell_type": "markdown",
   "id": "c653d6ea-d422-408e-905e-0bf3de11649f",
   "metadata": {},
   "source": [
    "## 3.3.3定义模型"
   ]
  },
  {
   "cell_type": "code",
   "execution_count": 19,
   "id": "3c8012c6-8202-42e0-9414-80874115c5d5",
   "metadata": {},
   "outputs": [],
   "source": [
    "from torch import nn\n",
    "\n",
    "net = nn.Sequential(nn.Linear(2, 1))"
   ]
  },
  {
   "cell_type": "markdown",
   "id": "734e37a8-661c-4d9a-a590-a55be2cad1ed",
   "metadata": {},
   "source": [
    "## 3.3.4初始化模型参数"
   ]
  },
  {
   "cell_type": "code",
   "execution_count": 26,
   "id": "42b9d4c2-1c60-4591-aa45-c5d26bfac06e",
   "metadata": {},
   "outputs": [
    {
     "data": {
      "text/plain": [
       "tensor([0.])"
      ]
     },
     "execution_count": 26,
     "metadata": {},
     "output_type": "execute_result"
    }
   ],
   "source": [
    "net[0].weight.data.normal_(0, 0.01) #net[0]取出第一层\n",
    "net[0].bias.data.fill_(0)"
   ]
  },
  {
   "cell_type": "code",
   "execution_count": 28,
   "id": "2a5c166f-4b80-477c-a37e-74b2aabe75a7",
   "metadata": {},
   "outputs": [],
   "source": [
    "loss = nn.MSELoss()"
   ]
  },
  {
   "cell_type": "code",
   "execution_count": 30,
   "id": "089655cd-66ea-4833-8ac4-9df629299e48",
   "metadata": {},
   "outputs": [],
   "source": [
    "trainer = torch.optim.SGD(net.parameters(), lr=0.03)"
   ]
  },
  {
   "cell_type": "code",
   "execution_count": 43,
   "id": "718f2286-731d-43b9-81c7-308d12b1336d",
   "metadata": {},
   "outputs": [
    {
     "name": "stdout",
     "output_type": "stream",
     "text": [
      "epoch: 1, loss: 0.000103\n",
      "epoch: 2, loss: 0.000102\n",
      "epoch: 3, loss: 0.000102\n"
     ]
    }
   ],
   "source": [
    "num_epochs = 3\n",
    "for epoch in range(num_epochs):\n",
    "    for X, y in data_iter:\n",
    "        l = loss(net(X), y)\n",
    "        trainer.zero_grad() #梯度清零\n",
    "        l.backward()\n",
    "        trainer.step() #参数更新\n",
    "    l = loss(net(features), labels)\n",
    "    print(f'epoch: {epoch+1}, loss: {l:f}')"
   ]
  },
  {
   "cell_type": "code",
   "execution_count": 49,
   "id": "268e0ef9-9075-4883-ba5e-db4580b9d294",
   "metadata": {},
   "outputs": [
    {
     "name": "stdout",
     "output_type": "stream",
     "text": [
      "w的估计误差 tensor([-0.0005,  0.0001])\n",
      "b的估计误差 tensor([-9.8705e-05])\n"
     ]
    }
   ],
   "source": [
    "w = net[0].weight.data\n",
    "print('w的估计误差', true_w - w.reshape(true_w.shape))\n",
    "b = net[0].bias.data\n",
    "print('b的估计误差', true_b - b)"
   ]
  },
  {
   "cell_type": "code",
   "execution_count": null,
   "id": "c476be4a-ca21-4959-acce-684681df30f5",
   "metadata": {},
   "outputs": [],
   "source": []
  }
 ],
 "metadata": {
  "kernelspec": {
   "display_name": "d2l",
   "language": "python",
   "name": "d2l"
  },
  "language_info": {
   "codemirror_mode": {
    "name": "ipython",
    "version": 3
   },
   "file_extension": ".py",
   "mimetype": "text/x-python",
   "name": "python",
   "nbconvert_exporter": "python",
   "pygments_lexer": "ipython3",
   "version": "3.9.21"
  }
 },
 "nbformat": 4,
 "nbformat_minor": 5
}
